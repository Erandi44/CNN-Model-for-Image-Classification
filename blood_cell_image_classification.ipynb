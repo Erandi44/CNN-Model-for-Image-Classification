{
  "nbformat": 4,
  "nbformat_minor": 0,
  "metadata": {
    "colab": {
      "provenance": []
    },
    "kernelspec": {
      "name": "python3",
      "display_name": "Python 3"
    },
    "language_info": {
      "name": "python"
    }
  },
  "cells": [
    {
      "cell_type": "code",
      "execution_count": null,
      "metadata": {
        "id": "y_FCoO4U2wSQ"
      },
      "outputs": [],
      "source": [
        "import os\n",
        "import cv2\n",
        "import numpy as np\n",
        "import tensorflow as tf\n",
        "from sklearn.model_selection import train_test_split\n",
        "from tensorflow.keras.preprocessing.image import ImageDataGenerator\n",
        "from tensorflow.keras import layers, models\n",
        "import random\n",
        "import matplotlib.pyplot as plt\n"
      ]
    },
    {
      "cell_type": "code",
      "source": [
        "from google.colab import drive\n",
        "drive.mount('/content/drive')"
      ],
      "metadata": {
        "id": "q5vqMEap27Z8"
      },
      "execution_count": null,
      "outputs": []
    },
    {
      "cell_type": "code",
      "source": [
        "IMAGE_SIZE = (360, 363)\n",
        "IMAGE_DIR = '/content/drive/MyDrive/image_data/bloodcells_dataset/'\n",
        "CLASS_NAMES = ['basophil', 'eosinophil', 'erythroblast', 'ig', 'lymphocyte', 'monocyte', 'neutrophil', 'platelet']\n",
        "NUM_CLASSES = len(CLASS_NAMES)"
      ],
      "metadata": {
        "id": "46Rl0zWFXnuC"
      },
      "execution_count": null,
      "outputs": []
    },
    {
      "cell_type": "code",
      "source": [
        "# function for loading images\n",
        "def load_images(image_dir, class_names, image_size):\n",
        "    images = []\n",
        "    labels = []\n",
        "\n",
        "    for idx, class_name in enumerate(class_names):\n",
        "        class_dir = os.path.join(image_dir, class_name)\n",
        "        for filename in os.listdir(class_dir):\n",
        "            if filename.endswith('.jpg'):\n",
        "                img = cv2.imread(os.path.join(class_dir, filename), cv2.IMREAD_GRAYSCALE)\n",
        "                img = cv2.resize(img, image_size)\n",
        "                images.append(img)\n",
        "                labels.append(idx)  # Class label is the index in the class list\n",
        "\n",
        "    images = np.array(images)\n",
        "    labels = np.array(labels)\n",
        "    images = images.reshape(-1, image_size[0], image_size[1], 1)  # Adding channel dimension for grayscale\n",
        "\n",
        "    return images, labels"
      ],
      "metadata": {
        "id": "hrvj1qLAXuIs"
      },
      "execution_count": null,
      "outputs": []
    },
    {
      "cell_type": "code",
      "source": [
        "# Load the images and labels\n",
        "images, labels = load_images(IMAGE_DIR, CLASS_NAMES, IMAGE_SIZE)\n",
        "\n",
        "# Debugging: Check if images and labels are loaded\n",
        "print(f\"Total images loaded: {len(images)}\")\n",
        "print(f\"Total labels loaded: {len(labels)}\")"
      ],
      "metadata": {
        "id": "24k-ak1xY-Y0"
      },
      "execution_count": null,
      "outputs": []
    },
    {
      "cell_type": "code",
      "source": [
        "# Check memory usage before normalization\n",
        "#print(f\"Memory usage before normalization: {images.nbytes / (1024 ** 2):.2f} MB\")"
      ],
      "metadata": {
        "id": "NhV6vv049o_1"
      },
      "execution_count": null,
      "outputs": []
    },
    {
      "cell_type": "code",
      "source": [
        "\n",
        "# Normalize the images and ensure they are of type float32\n",
        "images = images.astype(np.float32) / 255.0\n"
      ],
      "metadata": {
        "id": "iz94UgYgZHiD"
      },
      "execution_count": null,
      "outputs": []
    },
    {
      "cell_type": "code",
      "source": [
        "# Check memory usage after normalization\n",
        "#print(f\"Memory usage after normalization: {images.nbytes / (1024 ** 2):.2f} MB\")"
      ],
      "metadata": {
        "id": "SUErlBpe9qGt"
      },
      "execution_count": null,
      "outputs": []
    },
    {
      "cell_type": "code",
      "source": [
        "# Train-Test split\n",
        "\n",
        "X_train, X_test, y_train, y_test = train_test_split(images, labels, test_size=0.2, random_state=42)\n"
      ],
      "metadata": {
        "id": "6f_dev_DZMra"
      },
      "execution_count": null,
      "outputs": []
    },
    {
      "cell_type": "code",
      "source": [
        "# CNN Model definition\n",
        "def build_cnn(input_shape, num_classes):\n",
        "    model = models.Sequential([\n",
        "        layers.Conv2D(32, (3, 3), activation='relu', input_shape=input_shape),\n",
        "        layers.MaxPooling2D((2, 2)),\n",
        "        layers.Conv2D(64, (3, 3), activation='relu'),\n",
        "        layers.MaxPooling2D((2, 2)),\n",
        "        layers.Conv2D(128, (3, 3), activation='relu'),\n",
        "        layers.MaxPooling2D((2, 2)),\n",
        "        layers.Flatten(),\n",
        "        layers.Dense(128, activation='relu'),\n",
        "        layers.Dropout(0.5),  # Dropout to prevent overfitting\n",
        "        layers.Dense(num_classes, activation='softmax')\n",
        "    ])\n",
        "\n",
        "    model.compile(optimizer='adam',\n",
        "                  loss='sparse_categorical_crossentropy',\n",
        "                  metrics=['accuracy'])\n",
        "\n",
        "    return model"
      ],
      "metadata": {
        "id": "XCYw44SuZVSe"
      },
      "execution_count": null,
      "outputs": []
    },
    {
      "cell_type": "code",
      "source": [
        "# Model instance\n",
        "model = build_cnn((IMAGE_SIZE[0], IMAGE_SIZE[1], 1), NUM_CLASSES)\n",
        "\n",
        "# Model summary\n",
        "model.summary()\n",
        "\n",
        "# Train the model\n",
        "batch_size = 32\n",
        "epochs = 20\n",
        "\n",
        "history = model.fit(\n",
        "    datagen.flow(X_train, y_train, batch_size=batch_size),\n",
        "    validation_data=(X_test, y_test),\n",
        "    epochs=epochs\n",
        ")"
      ],
      "metadata": {
        "id": "C-G2b14eZbPu"
      },
      "execution_count": null,
      "outputs": []
    },
    {
      "cell_type": "code",
      "source": [
        "# Evaluate the model on the test set\n",
        "test_loss, test_acc = model.evaluate(X_test, y_test)\n",
        "print(f\"Test accuracy: {test_acc}\")"
      ],
      "metadata": {
        "id": "5gMndIUVZlQn"
      },
      "execution_count": null,
      "outputs": []
    },
    {
      "cell_type": "code",
      "source": [
        "# display an image and its predicted class\n",
        "def display_random_image_with_prediction(model, X_test, y_test, class_names):\n",
        "    # Pick a random index from the test set\n",
        "    random_index = random.randint(0, len(X_test) - 1)\n",
        "\n",
        "    # Get the image and true label\n",
        "    img = X_test[random_index]\n",
        "    true_label = y_test[random_index]\n",
        "\n",
        "    # Reshape the image if needed for display\n",
        "    img_display = img.reshape(IMAGE_SIZE[0], IMAGE_SIZE[1])\n",
        "\n",
        "    # Model prediction (reshape image for model if needed)\n",
        "    img_for_prediction = img.reshape(1, IMAGE_SIZE[0], IMAGE_SIZE[1], 1)  # Add batch and channel dimensions\n",
        "    prediction = model.predict(img_for_prediction)\n",
        "    predicted_label = np.argmax(prediction)  # Get the predicted class\n",
        "\n",
        "    # Display the image\n",
        "    plt.imshow(img_display, cmap='gray')\n",
        "    plt.title(f\"True Label: {class_names[true_label]}, Predicted Label: {class_names[predicted_label]}\")\n",
        "    plt.axis('off')\n",
        "    plt.show()\n",
        "\n",
        "# Call the function to display a random image and its prediction\n",
        "display_random_image_with_prediction(model, X_test, y_test, CLASS_NAMES)"
      ],
      "metadata": {
        "id": "ocCanB1KZpVR"
      },
      "execution_count": null,
      "outputs": []
    }
  ]
}